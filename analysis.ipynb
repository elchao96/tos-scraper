{
 "metadata": {
  "language_info": {
   "codemirror_mode": {
    "name": "ipython",
    "version": 3
   },
   "file_extension": ".py",
   "mimetype": "text/x-python",
   "name": "python",
   "nbconvert_exporter": "python",
   "pygments_lexer": "ipython3",
   "version": "3.9.1"
  },
  "orig_nbformat": 2,
  "kernelspec": {
   "name": "python39164bittosscrapervenva51ba27f56f54381a214f9a00ea636bb",
   "display_name": "Python 3.9.1 64-bit ('tos-scraper': venv)",
   "language": "python"
  }
 },
 "nbformat": 4,
 "nbformat_minor": 2,
 "cells": [
  {
   "cell_type": "code",
   "execution_count": 23,
   "metadata": {},
   "outputs": [],
   "source": [
    "import numpy as np\n",
    "import matplotlib as plt\n",
    "import os\n",
    "import copy\n",
    "from datetime import datetime"
   ]
  },
  {
   "cell_type": "code",
   "execution_count": 24,
   "metadata": {
    "tags": []
   },
   "outputs": [
    {
     "output_type": "stream",
     "name": "stdout",
     "text": [
      "20171206081009\n+ Report violations\n+ Parody, newsfeed, commentary, and fan account policy (the “policy”)\n+ The Twitter Rules\n+ How to contact Twitter about media concerning a deceased family member\n+ Update to our Privacy Policy\n+ Inactive account policy\n+ Twitter media policy\n+ Username squatting policy\n+ Impersonation policy\n+ About rules and best practices with account behaviors\n+ Fair use policy\n+ Our range of enforcement options\n+ Twitter Moments guidelines and principles\n+ Guidelines for law enforcement\n+ Guidelines for Promotions on Twitter\n+ About search rules and restrictions\n+ How to report security vulnerabilities\n+ Twitter’s use of cookies and similar technologies\n+ Vine Camera Terms of Service and privacy policy\n+ Twitter, our services, and corporate affiliates\n+ Trademark policy\n+ Following limit FAQs\n+ Legal request FAQs\n+ Our approach to policy development and enforcement philosophy\n+ About specific instances when a Tweet’s reach may be limited\n+ Counterfeit policy\n+ How to contact Twitter about a deceased family member's account\n+ Automation rules\n+ Twitter Commerce Terms\n+ Copyright policy\n+ About Twitter limits\n+ About user research at Twitter\n+ About intimate media on Twitter\n+ Hateful conduct policy\n+ About private information on Twitter\n+ Child sexual exploitation policy\n+ About country withheld content\n+ About the Twitter Experiments Program\n+ Defending and respecting the rights of people using our service\n+ About grievance officer - India\n\n\n20171218210652\n+ Abusive profile information\n+ Violent extremist groups\n+ Violent threats and glorification of violence\n+ Your media settings\n\n\n20180220231509\n+ Glorifying self-harm and suicide\n\n\n20180305231838\n+ About the Twitter Insiders Program\n\n\n20180424080534\n+ About Twitter’s APIs\n\n\n20180424174101\n+ Our use of cookies and similar technologies\n+ Updates to our Terms of Service and Privacy Policy\n\n\n20180424203608\n- Update to our Privacy Policy\n- Twitter’s use of cookies and similar technologies\n\n\n20180425231141\n+ REDIRECT Twitter Commerce Terms\n\n\n20180426080329\n- Twitter Commerce Terms\n\n\n20180525213817\n+ Data processing and legal bases summary\n\n\n20180525231114\n- REDIRECT Twitter Commerce Terms\n\n\n20180626214005\n+ Abusive behavior\n\n\n20190321224516\n+ Automated copyright claims policy\n\n\n20190422231214\n+ Election integrity policy\n\n\n20190423080304\n- Following limit FAQs\n\n\n20190426191545\n+ Reporting false information in France\n\n\n20190606221036\n+ Illegal or certain regulated goods or services\n+ Deceased individuals\n+ Non-consensual nudity policy\n+ Sensitive media policy\n+ Violent threats policy\n+ Distribution of hacked material policy\n+ Terrorism and violent extremism policy\n+ Platform manipulation and spam policy\n+ Glorification of violence policy\n+ Private information policy\n\n\n20190606221854\n- Violent extremist groups\n- About intimate media on Twitter\n- Violent threats and glorification of violence\n- About private information on Twitter\n- How to contact Twitter about media concerning a deceased family member\n- Twitter media policy\n\n\n20190620164716\n+ Curation style guide\n\n\n20190627205033\n+ Notices on Twitter and what they mean\n\n\n20190925202418\n+ Financial scam policy\n\n\n20191016202509\n+ About public-interest exceptions on Twitter\n\n\n20191202204858\n+ Additional information about data processing\n\n\n20191204042653\n- Data processing and legal bases summary\n\n\n20200205211643\n+ Synthetic and manipulated media policy\n\n\n20200521224325\n+ Civic integrity policy\n\n\n20200522022731\n- Election integrity policy\n\n\n20200707011323\n+ Suicide and Self-harm Policy\n\n\n20200707013633\n- Glorifying self-harm and suicide\n\n\n20200806224837\n+ About government and state-affiliated media account labels on Twitter\n\n\n20200917180912\n+ Coordinated harmful activity\n\n\n20201013205145\n+ Ban evasion policy\n\n\n20201023013230\n+ Violent organizations policy\n\n\n20201023091424\n- Terrorism and violent extremism policy\n\n\n20201024031057\n+ Distribution of hacked materials policy\n- Distribution of hacked material policy\n\n\n20201216231058\n+ COVID-19 misleading information policy\n\n\n20210413060348\n+ What is the Twitter iOS beta program?\n\n\n20210525000000\n\n\n"
     ]
    }
   ],
   "source": [
    "last = set()\n",
    "current = set()\n",
    "additions = set()\n",
    "subtractions = set()\n",
    "for diff in sorted(os.listdir(\"diffs\")):\n",
    "    timestamp = diff.replace('.txt', '')\n",
    "    with open(f'diffs/{diff}', \"r\") as diff_file:\n",
    "        for line in diff_file.readlines():\n",
    "            current.add(line.strip())\n",
    "    print(timestamp)\n",
    "    additions = current - last\n",
    "    for item in additions:\n",
    "        print(f'+ {item}')\n",
    "    subtractions = last - current\n",
    "    for item in subtractions:\n",
    "        print(f'- {item}')\n",
    "    print('\\n')\n",
    "    last = copy.deepcopy(current)\n",
    "    current.clear()\n",
    "    additions.clear()\n",
    "    subtractions.clear()"
   ]
  },
  {
   "cell_type": "code",
   "execution_count": 25,
   "metadata": {},
   "outputs": [
    {
     "output_type": "stream",
     "name": "stdout",
     "text": [
      "{'2017': 2, '2018': 10, '2019': 12, '2020': 12, '2021': 2}\n"
     ]
    }
   ],
   "source": [
    "changes_per_year = dict()\n",
    "for diff in sorted(os.listdir(\"diffs\")):\n",
    "    year = diff[:4]\n",
    "    if year not in changes_per_year:        \n",
    "        changes_per_year[year] = 0\n",
    "    changes_per_year[year] += 1\n",
    "print(changes_per_year)"
   ]
  },
  {
   "cell_type": "code",
   "execution_count": 26,
   "metadata": {},
   "outputs": [
    {
     "output_type": "stream",
     "name": "stdout",
     "text": [
      "{'2017-12': 2, '2018-02': 1, '2018-03': 1, '2018-04': 5, '2018-05': 2, '2018-06': 1, '2019-03': 1, '2019-04': 3, '2019-06': 4, '2019-09': 1, '2019-10': 1, '2019-12': 2, '2020-02': 1, '2020-05': 2, '2020-07': 2, '2020-08': 1, '2020-09': 1, '2020-10': 4, '2020-12': 1, '2021-04': 1, '2021-05': 1}\n"
     ]
    }
   ],
   "source": [
    "changes_per_month_year = dict()\n",
    "for diff in sorted(os.listdir(\"diffs\")):\n",
    "    year = diff[:4]\n",
    "    month = diff[4:6]\n",
    "    if f'{year}-{month}' not in changes_per_month_year:\n",
    "        changes_per_month_year[f'{year}-{month}'] = 0\n",
    "    changes_per_month_year[f'{year}-{month}'] += 1\n",
    "print(changes_per_month_year)"
   ]
  },
  {
   "cell_type": "code",
   "execution_count": null,
   "metadata": {},
   "outputs": [],
   "source": []
  }
 ]
}